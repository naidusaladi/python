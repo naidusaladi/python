{
 "cells": [
  {
   "cell_type": "code",
   "execution_count": 2,
   "id": "fac76b3d",
   "metadata": {},
   "outputs": [
    {
     "name": "stdout",
     "output_type": "stream",
     "text": [
      "[1 2 3 4 5]\n"
     ]
    }
   ],
   "source": [
    "import numpy as np\n",
    "a=np.array([1,2,3,4,5])\n",
    "print(a)"
   ]
  },
  {
   "cell_type": "code",
   "execution_count": 3,
   "id": "be5e9963",
   "metadata": {},
   "outputs": [
    {
     "name": "stdout",
     "output_type": "stream",
     "text": [
      "[[1 2 3]\n",
      " [4 5 6]]\n"
     ]
    }
   ],
   "source": [
    "b=np.array([[1,2,3],[4,5,6]])\n",
    "print(b)"
   ]
  },
  {
   "cell_type": "code",
   "execution_count": 4,
   "id": "17ba5736",
   "metadata": {},
   "outputs": [
    {
     "name": "stdout",
     "output_type": "stream",
     "text": [
      "1\n"
     ]
    }
   ],
   "source": [
    "print(b[0][0])"
   ]
  },
  {
   "cell_type": "code",
   "execution_count": 6,
   "id": "35d2b1c6",
   "metadata": {},
   "outputs": [
    {
     "name": "stdout",
     "output_type": "stream",
     "text": [
      "1969.4867134094238\n"
     ]
    }
   ],
   "source": [
    "#to find np array is faster than list in python\n",
    "import time\n",
    "psize=10000000\n",
    "l1=range(psize)\n",
    "l2=range(psize)\n",
    "a1=np.array(psize)\n",
    "a2=np.array(psize)\n",
    "start=time.time()\n",
    "result=[(x,y)for x,y in zip(l1,l2)]\n",
    "print((time.time()-start)*1000)\n",
    "\n"
   ]
  },
  {
   "cell_type": "code",
   "execution_count": 7,
   "id": "acc89a92",
   "metadata": {},
   "outputs": [
    {
     "name": "stdout",
     "output_type": "stream",
     "text": [
      "505.24330139160156\n",
      "20000000\n"
     ]
    }
   ],
   "source": [
    "st=time.time()\n",
    "result=a1+a2\n",
    "print((time.time()-st)*1000)\n",
    "print(result)"
   ]
  },
  {
   "cell_type": "code",
   "execution_count": 19,
   "id": "e49d4d06",
   "metadata": {},
   "outputs": [
    {
     "name": "stdout",
     "output_type": "stream",
     "text": [
      "2\n"
     ]
    }
   ],
   "source": [
    "arr=np.array([[1,2,4],[8,9,6]])\n",
    "print(arr.ndim)"
   ]
  },
  {
   "cell_type": "code",
   "execution_count": 13,
   "id": "d746803f",
   "metadata": {},
   "outputs": [
    {
     "name": "stdout",
     "output_type": "stream",
     "text": [
      "3\n"
     ]
    }
   ],
   "source": [
    "nrr=np.array([[[1],[2],[3],[4]]])\n",
    "print(nrr.ndim)"
   ]
  },
  {
   "cell_type": "code",
   "execution_count": 14,
   "id": "d034a0b7",
   "metadata": {},
   "outputs": [
    {
     "name": "stdout",
     "output_type": "stream",
     "text": [
      "1\n"
     ]
    }
   ],
   "source": [
    "print(nrr[0][0][0])"
   ]
  },
  {
   "cell_type": "code",
   "execution_count": 15,
   "id": "559219b3",
   "metadata": {},
   "outputs": [
    {
     "name": "stdout",
     "output_type": "stream",
     "text": [
      "[[[1]\n",
      "  [2]\n",
      "  [3]\n",
      "  [4]]]\n"
     ]
    }
   ],
   "source": [
    "print(nrr)"
   ]
  },
  {
   "cell_type": "code",
   "execution_count": 21,
   "id": "8574eb3f",
   "metadata": {},
   "outputs": [
    {
     "name": "stdout",
     "output_type": "stream",
     "text": [
      "4\n",
      "int32\n"
     ]
    }
   ],
   "source": [
    "#size of an element in array int-->4 bits\n",
    "print(nrr.itemsize)\n",
    "print(nrr.dtype)"
   ]
  },
  {
   "cell_type": "code",
   "execution_count": 22,
   "id": "e4fef242",
   "metadata": {},
   "outputs": [
    {
     "name": "stdout",
     "output_type": "stream",
     "text": [
      "4\n",
      "int32\n"
     ]
    }
   ],
   "source": [
    "print(arr.itemsize)\n",
    "print(arr.dtype)"
   ]
  },
  {
   "cell_type": "code",
   "execution_count": 23,
   "id": "63b9c2df",
   "metadata": {},
   "outputs": [
    {
     "name": "stdout",
     "output_type": "stream",
     "text": [
      "6\n",
      "4\n"
     ]
    }
   ],
   "source": [
    "#number of elements in an array\n",
    "print(arr.size)\n",
    "print(nrr.size)"
   ]
  },
  {
   "cell_type": "code",
   "execution_count": 24,
   "id": "68067808",
   "metadata": {},
   "outputs": [
    {
     "name": "stdout",
     "output_type": "stream",
     "text": [
      "(2, 3)\n",
      "(1, 4, 1)\n"
     ]
    }
   ],
   "source": [
    "#shape of the array (rows,columns)\n",
    "print(arr.shape)#two rows three columns\n",
    "print(nrr.shape)#3d so i-coff=1,jcoff=4,kcoff=1"
   ]
  },
  {
   "cell_type": "code",
   "execution_count": 29,
   "id": "ec47db28",
   "metadata": {},
   "outputs": [
    {
     "name": "stdout",
     "output_type": "stream",
     "text": [
      "(3, 2)\n",
      "[[ 8  9]\n",
      " [10 11]\n",
      " [12 13]]\n"
     ]
    }
   ],
   "source": [
    "ab=np.array([[8,9],[10,11],[12,13]])\n",
    "print(ab.shape)\n",
    "print(ab)"
   ]
  },
  {
   "cell_type": "code",
   "execution_count": 30,
   "id": "f483754b",
   "metadata": {},
   "outputs": [
    {
     "name": "stdout",
     "output_type": "stream",
     "text": [
      "(2, 3)\n",
      "[[ 8  9 10]\n",
      " [11 12 13]]\n"
     ]
    }
   ],
   "source": [
    "ne=ab.reshape(2,3)\n",
    "print(ne.shape)\n",
    "print(ne)"
   ]
  },
  {
   "cell_type": "code",
   "execution_count": 31,
   "id": "2b28f072",
   "metadata": {},
   "outputs": [
    {
     "name": "stdout",
     "output_type": "stream",
     "text": [
      "[10 13]\n"
     ]
    }
   ],
   "source": [
    "print(ne[:,2])#all rows:,column"
   ]
  },
  {
   "cell_type": "code",
   "execution_count": 32,
   "id": "629f7543",
   "metadata": {},
   "outputs": [
    {
     "name": "stdout",
     "output_type": "stream",
     "text": [
      "[11 12 13]\n"
     ]
    }
   ],
   "source": [
    "print(ne[1,:])# one row:,all columns"
   ]
  },
  {
   "cell_type": "code",
   "execution_count": 35,
   "id": "28b7639a",
   "metadata": {},
   "outputs": [
    {
     "name": "stdout",
     "output_type": "stream",
     "text": [
      "[ 1.  4.  7. 10.]\n"
     ]
    }
   ],
   "source": [
    "tri=np.linspace(1,10,4)#4 elements between 1-10 equally spaced\n",
    "print(tri)"
   ]
  },
  {
   "cell_type": "code",
   "execution_count": 36,
   "id": "58a96785",
   "metadata": {},
   "outputs": [
    {
     "name": "stdout",
     "output_type": "stream",
     "text": [
      "9\n",
      "0\n",
      "43\n"
     ]
    }
   ],
   "source": [
    "erray=np.array([1,4,3,5,6,7,8,9,0])\n",
    "print(erray.max())\n",
    "print(erray.min())\n",
    "print(erray.sum())"
   ]
  },
  {
   "cell_type": "code",
   "execution_count": 37,
   "id": "b71657d0",
   "metadata": {},
   "outputs": [
    {
     "name": "stdout",
     "output_type": "stream",
     "text": [
      "[6 7 8]\n"
     ]
    }
   ],
   "source": [
    "perry=np.array([[1,2,3],[4,5,6],[6,7,8]])\n",
    "print(perry.max(axis=0))\n",
    "               "
   ]
  },
  {
   "cell_type": "code",
   "execution_count": 38,
   "id": "0d1a81a9",
   "metadata": {},
   "outputs": [
    {
     "name": "stdout",
     "output_type": "stream",
     "text": [
      "[1 4 6]\n"
     ]
    }
   ],
   "source": [
    "print(perry.min(axis=1))"
   ]
  },
  {
   "cell_type": "code",
   "execution_count": 39,
   "id": "8ae4fc19",
   "metadata": {},
   "outputs": [
    {
     "name": "stdout",
     "output_type": "stream",
     "text": [
      "[11 14 17]\n",
      "[ 6 15 21]\n"
     ]
    }
   ],
   "source": [
    "print(perry.sum(axis=0))\n",
    "print(perry.sum(axis=1))"
   ]
  },
  {
   "cell_type": "code",
   "execution_count": 3,
   "id": "722d41d0",
   "metadata": {},
   "outputs": [
    {
     "name": "stdout",
     "output_type": "stream",
     "text": [
      "[ 6  8 10 12]\n",
      "[4 4 4 4]\n",
      "[ 5 12 21 32]\n",
      "[0.2        0.33333333 0.42857143 0.5       ]\n"
     ]
    }
   ],
   "source": [
    "#mathamatical operations\n",
    "s1=np.array([1,2,3,4])\n",
    "s2=np.array([5,6,7,8])\n",
    "print(s1+s2)\n",
    "print(s2-s1)\n",
    "print(s1*s2)\n",
    "print(s1/s2)\n"
   ]
  },
  {
   "cell_type": "markdown",
   "id": "bf294440",
   "metadata": {},
   "source": [
    "# Concatination or merging\n"
   ]
  },
  {
   "cell_type": "code",
   "execution_count": 8,
   "id": "93ef6867",
   "metadata": {},
   "outputs": [
    {
     "name": "stdout",
     "output_type": "stream",
     "text": [
      "[[2 3 5 7]\n",
      " [1 4 6 8]]\n"
     ]
    }
   ],
   "source": [
    "na=np.array([2,3,5,7])\n",
    "nb=np.array([1,4,6,8])\n",
    "print(np.vstack((na,nb)))#v-->vertical stack"
   ]
  },
  {
   "cell_type": "code",
   "execution_count": 9,
   "id": "a26db505",
   "metadata": {},
   "outputs": [
    {
     "name": "stdout",
     "output_type": "stream",
     "text": [
      "[2 3 5 7 1 4 6 8]\n"
     ]
    }
   ],
   "source": [
    "print(np.hstack((na,nb)))#h-->horizontal stack"
   ]
  },
  {
   "cell_type": "code",
   "execution_count": 10,
   "id": "afe5a6dd",
   "metadata": {},
   "outputs": [
    {
     "name": "stdout",
     "output_type": "stream",
     "text": [
      "[1 2 3 4 5]\n"
     ]
    }
   ],
   "source": [
    "nc=np.array([[1,2,3],[4,3,5]])\n",
    "print(a.ravel())    #ravel() -->converts n-d array to 1-d array"
   ]
  },
  {
   "cell_type": "markdown",
   "id": "54b0a217",
   "metadata": {},
   "source": [
    "# Numpy special functions"
   ]
  },
  {
   "cell_type": "code",
   "execution_count": 29,
   "id": "a4da8f0f",
   "metadata": {},
   "outputs": [
    {
     "data": {
      "image/png": "[encoded data removed]",
      "text/plain": [
       "<Figure size 432x288 with 1 Axes>"
      ]
     },
     "metadata": {
      "needs_background": "light"
     },
     "output_type": "display_data"
    }
   ],
   "source": [
    "import matplotlib.pyplot as plt\n",
    "x=np.linspace(0,3*np.pi,100)\n",
    "y=np.sin(x)\n",
    "plt.plot(x,y,'r')\n",
    "plt.title('sine graph')\n",
    "plt.show()"
   ]
  },
  {
   "cell_type": "code",
   "execution_count": 28,
   "id": "b6234941",
   "metadata": {},
   "outputs": [
    {
     "data": {
      "image/png": "[encoded data removed]",
      "text/plain": [
       "<Figure size 432x288 with 1 Axes>"
      ]
     },
     "metadata": {
      "needs_background": "light"
     },
     "output_type": "display_data"
    }
   ],
   "source": [
    "x=np.linspace(0,3*np.pi,100)\n",
    "y=np.cos(x)\n",
    "plt.plot(x,y,'b')\n",
    "plt.title('cos graph')\n",
    "plt.show()"
   ]
  },
  {
   "cell_type": "markdown",
   "id": "6acd0d6b",
   "metadata": {},
   "source": [
    "# Expontial (e^x)"
   ]
  },
  {
   "cell_type": "code",
   "execution_count": 31,
   "id": "2e0bfc2a",
   "metadata": {},
   "outputs": [
    {
     "name": "stdout",
     "output_type": "stream",
     "text": [
      "[ 2.71828183  7.3890561  20.08553692 54.59815003]\n"
     ]
    }
   ],
   "source": [
    "ex=np.array([1,2,3,4])\n",
    "print(np.exp(ex))"
   ]
  },
  {
   "cell_type": "code",
   "execution_count": 32,
   "id": "9b7d4037",
   "metadata": {},
   "outputs": [
    {
     "name": "stdout",
     "output_type": "stream",
     "text": [
      "[0.         0.69314718 1.09861229 1.38629436]\n"
     ]
    }
   ],
   "source": [
    "print(np.log(ex))"
   ]
  },
  {
   "cell_type": "code",
   "execution_count": 34,
   "id": "8158f248",
   "metadata": {},
   "outputs": [
    {
     "name": "stdout",
     "output_type": "stream",
     "text": [
      "[0.         0.30103    0.47712125 0.60205999]\n"
     ]
    }
   ],
   "source": [
    "print(np.log10(ex))"
   ]
  },
  {
   "cell_type": "markdown",
   "id": "2a2d80f0",
   "metadata": {},
   "source": [
    "# log graph"
   ]
  },
  {
   "cell_type": "code",
   "execution_count": 39,
   "id": "a70415eb",
   "metadata": {},
   "outputs": [
    {
     "data": {
      "image/png": "[encoded data removed]",
      "text/plain": [
       "<Figure size 432x288 with 1 Axes>"
      ]
     },
     "metadata": {
      "needs_background": "light"
     },
     "output_type": "display_data"
    }
   ],
   "source": [
    "x=np.linspace(1,10,100)\n",
    "y=np.log(x)\n",
    "plt.plot(x,y,'g')\n",
    "plt.title('log graph')\n",
    "plt.show()"
   ]
  },
  {
   "cell_type": "markdown",
   "id": "e95b4bfb",
   "metadata": {},
   "source": [
    "# Expontial graph"
   ]
  },
  {
   "cell_type": "code",
   "execution_count": 38,
   "id": "aa35854f",
   "metadata": {},
   "outputs": [
    {
     "data": {
      "image/png": "[encoded data removed]",
      "text/plain": [
       "<Figure size 432x288 with 1 Axes>"
      ]
     },
     "metadata": {
      "needs_background": "light"
     },
     "output_type": "display_data"
    }
   ],
   "source": [
    "x=np.linspace(1,10,100)\n",
    "y=np.exp(x)\n",
    "plt.plot(x,y,'y')\n",
    "plt.title('Expontial graph')\n",
    "plt.show()"
   ]
  },
  {
   "cell_type": "code",
   "execution_count": null,
   "id": "2721f09c",
   "metadata": {},
   "outputs": [],
   "source": []
  }
 ],
 "metadata": {
  "kernelspec": {
   "display_name": "Python 3",
   "language": "python",
   "name": "python3"
  },
  "language_info": {
   "codemirror_mode": {
    "name": "ipython",
    "version": 3
   },
   "file_extension": ".py",
   "mimetype": "text/x-python",
   "name": "python",
   "nbconvert_exporter": "python",
   "pygments_lexer": "ipython3",
   "version": "3.8.8"
  }
 },
 "nbformat": 4,
 "nbformat_minor": 5
}

{
  "nbformat": 4,
  "nbformat_minor": 0,
  "metadata": {
    "colab": {
      "name": "NLp.ipynb",
      "provenance": [],
      "collapsed_sections": []
    },
    "kernelspec": {
      "name": "python3",
      "display_name": "Python 3"
    },
    "language_info": {
      "name": "python"
    }
  },
  "cells": [
    {
      "cell_type": "markdown",
      "source": [
        "#FirstStep in NLP\n",
        "(Taking raw data)\n"
      ],
      "metadata": {
        "id": "ENkbkvws_VUx"
      }
    },
    {
      "cell_type": "code",
      "execution_count": 4,
      "metadata": {
        "colab": {
          "base_uri": "https://localhost:8080/"
        },
        "id": "lcZsVLqp_FRx",
        "outputId": "01a81423-7746-4799-bc73-6867320fc45e"
      },
      "outputs": [
        {
          "output_type": "stream",
          "name": "stdout",
          "text": [
            "  what is Your Name Iam Subrahmanyam\n"
          ]
        }
      ],
      "source": [
        "import re\n",
        "text=\"  what is Your Name? I'am Subrahmanyam.\"\n",
        "\n",
        "clean=re.sub(r'[\\?\\.\\']',\"\",text)\n",
        "print(clean)"
      ]
    },
    {
      "cell_type": "markdown",
      "source": [
        "#Step 0 Basic Cleaning of Text\n"
      ],
      "metadata": {
        "id": "f1iB4h5gBCfs"
      }
    },
    {
      "cell_type": "code",
      "source": [
        "text1=\"Hi Good Morning, My Name Is Subrahmanyam Naidu, I'am from Kakinadu I Play Cricket Every Day and I Love Bating verymuch my E-mail is naidusaladi924@gmail.com and my passaword is! naidusaladi942?  I working as a member of lio club in which we conduct activities liKe dancing,swiming, and d..\"\n",
        "import re \n",
        "clean_1=re.sub(r'[\\.\\!\\,\\@\\?\\']',\" \",text1)\n",
        "clean_1"
      ],
      "metadata": {
        "colab": {
          "base_uri": "https://localhost:8080/",
          "height": 53
        },
        "id": "2uIR3Y8lBB1E",
        "outputId": "dc0581d3-046b-4f3a-a192-5edc2d2f66d4"
      },
      "execution_count": 3,
      "outputs": [
        {
          "output_type": "execute_result",
          "data": {
            "text/plain": [
              "'Hi Good Morning  My Name Is Subrahmanyam Naidu  I am from Kakinadu I Play Cricket Every Day and I Love Bating verymuch my E-mail is naidusaladi924 gmail com and my passaword is  naidusaladi942   I working as a member of lio club in which we conduct activities liKe dancing swiming  and d  '"
            ],
            "application/vnd.google.colaboratory.intrinsic+json": {
              "type": "string"
            }
          },
          "metadata": {},
          "execution_count": 3
        }
      ]
    },
    {
      "cell_type": "markdown",
      "source": [
        "#Spliting Data into Tokens(Tokenization)"
      ],
      "metadata": {
        "id": "jTTikxY_HRyh"
      }
    },
    {
      "cell_type": "code",
      "source": [
        "tokens=[clean_1.split(\" \")]\n",
        "tokens"
      ],
      "metadata": {
        "colab": {
          "base_uri": "https://localhost:8080/"
        },
        "id": "EDkqf7SwHnBV",
        "outputId": "a69574b9-b944-4301-af6d-25138a7f0084"
      },
      "execution_count": 6,
      "outputs": [
        {
          "output_type": "execute_result",
          "data": {
            "text/plain": [
              "[['Hi',\n",
              "  'Good',\n",
              "  'Morning',\n",
              "  '',\n",
              "  'My',\n",
              "  'Name',\n",
              "  'Is',\n",
              "  'Subrahmanyam',\n",
              "  'Naidu',\n",
              "  '',\n",
              "  'I',\n",
              "  'am',\n",
              "  'from',\n",
              "  'Kakinadu',\n",
              "  'I',\n",
              "  'Play',\n",
              "  'Cricket',\n",
              "  'Every',\n",
              "  'Day',\n",
              "  'and',\n",
              "  'I',\n",
              "  'Love',\n",
              "  'Bating',\n",
              "  'verymuch',\n",
              "  'my',\n",
              "  'E-mail',\n",
              "  'is',\n",
              "  'naidusaladi924',\n",
              "  'gmail',\n",
              "  'com',\n",
              "  'and',\n",
              "  'my',\n",
              "  'passaword',\n",
              "  'is',\n",
              "  '',\n",
              "  'naidusaladi942',\n",
              "  '',\n",
              "  '',\n",
              "  'I',\n",
              "  'working',\n",
              "  'as',\n",
              "  'a',\n",
              "  'member',\n",
              "  'of',\n",
              "  'lio',\n",
              "  'club',\n",
              "  'in',\n",
              "  'which',\n",
              "  'we',\n",
              "  'conduct',\n",
              "  'activities',\n",
              "  'liKe',\n",
              "  'dancing',\n",
              "  'swiming',\n",
              "  '',\n",
              "  'and',\n",
              "  'd',\n",
              "  '',\n",
              "  '']]"
            ]
          },
          "metadata": {},
          "execution_count": 6
        }
      ]
    },
    {
      "cell_type": "markdown",
      "source": [
        "#Converting Text Into Lower case  "
      ],
      "metadata": {
        "id": "HiJ4OEcuF0yk"
      }
    },
    {
      "cell_type": "code",
      "source": [
        "lower=[]\n",
        "for words in tokens:\n",
        "  for word in words:\n",
        "    lower.append(str.lower(word))\n",
        "print(lower)"
      ],
      "metadata": {
        "colab": {
          "base_uri": "https://localhost:8080/"
        },
        "id": "WzEi8CsiGGcN",
        "outputId": "dcb82c6e-5c2f-4934-c571-565ff9f622b9"
      },
      "execution_count": 8,
      "outputs": [
        {
          "output_type": "stream",
          "name": "stdout",
          "text": [
            "['hi', 'good', 'morning', '', 'my', 'name', 'is', 'subrahmanyam', 'naidu', '', 'i', 'am', 'from', 'kakinadu', 'i', 'play', 'cricket', 'every', 'day', 'and', 'i', 'love', 'bating', 'verymuch', 'my', 'e-mail', 'is', 'naidusaladi924', 'gmail', 'com', 'and', 'my', 'passaword', 'is', '', 'naidusaladi942', '', '', 'i', 'working', 'as', 'a', 'member', 'of', 'lio', 'club', 'in', 'which', 'we', 'conduct', 'activities', 'like', 'dancing', 'swiming', '', 'and', 'd', '', '']\n"
          ]
        }
      ]
    },
    {
      "cell_type": "markdown",
      "source": [
        "#Stop words Removal\n"
      ],
      "metadata": {
        "id": "HJPARcirI8sg"
      }
    },
    {
      "cell_type": "code",
      "source": [
        "import nltk\n",
        "nltk.download('stopwords')"
      ],
      "metadata": {
        "colab": {
          "base_uri": "https://localhost:8080/"
        },
        "id": "5N9zm3TQJjIw",
        "outputId": "d6bcfc70-38d0-4673-88b7-fcebf0cfae0c"
      },
      "execution_count": 9,
      "outputs": [
        {
          "output_type": "stream",
          "name": "stdout",
          "text": [
            "[nltk_data] Downloading package stopwords to /root/nltk_data...\n",
            "[nltk_data]   Unzipping corpora/stopwords.zip.\n"
          ]
        },
        {
          "output_type": "execute_result",
          "data": {
            "text/plain": [
              "True"
            ]
          },
          "metadata": {},
          "execution_count": 9
        }
      ]
    },
    {
      "cell_type": "code",
      "source": [
        "from nltk.corpus import stopwords\n",
        "swr=[]\n",
        "for word in lower:\n",
        "  if not word in stopwords.words('english'):\n",
        "    swr.append(word)\n",
        "swr    "
      ],
      "metadata": {
        "colab": {
          "base_uri": "https://localhost:8080/"
        },
        "id": "CgUmUZ2oJyei",
        "outputId": "f9c35f4e-5c9d-4f58-c536-4ee217276922"
      },
      "execution_count": 11,
      "outputs": [
        {
          "output_type": "execute_result",
          "data": {
            "text/plain": [
              "['hi',\n",
              " 'good',\n",
              " 'morning',\n",
              " '',\n",
              " 'name',\n",
              " 'subrahmanyam',\n",
              " 'naidu',\n",
              " '',\n",
              " 'kakinadu',\n",
              " 'play',\n",
              " 'cricket',\n",
              " 'every',\n",
              " 'day',\n",
              " 'love',\n",
              " 'bating',\n",
              " 'verymuch',\n",
              " 'e-mail',\n",
              " 'naidusaladi924',\n",
              " 'gmail',\n",
              " 'com',\n",
              " 'passaword',\n",
              " '',\n",
              " 'naidusaladi942',\n",
              " '',\n",
              " '',\n",
              " 'working',\n",
              " 'member',\n",
              " 'lio',\n",
              " 'club',\n",
              " 'conduct',\n",
              " 'activities',\n",
              " 'like',\n",
              " 'dancing',\n",
              " 'swiming',\n",
              " '',\n",
              " '',\n",
              " '']"
            ]
          },
          "metadata": {},
          "execution_count": 11
        }
      ]
    },
    {
      "cell_type": "markdown",
      "source": [
        "#Lemitization"
      ],
      "metadata": {
        "id": "Y0vlf4EdLOVV"
      }
    },
    {
      "cell_type": "code",
      "source": [
        "from nltk.stem.wordnet import WordNetLemmatizer\n",
        "wnet=WordNetLemmatizer()\n",
        "import nltk\n",
        "nltk.download('wordnet')"
      ],
      "metadata": {
        "colab": {
          "base_uri": "https://localhost:8080/"
        },
        "id": "FecKusohLdLx",
        "outputId": "04cb5bec-7abb-4d10-a26b-9eb09bd45849"
      },
      "execution_count": 13,
      "outputs": [
        {
          "output_type": "stream",
          "name": "stdout",
          "text": [
            "[nltk_data] Downloading package wordnet to /root/nltk_data...\n",
            "[nltk_data]   Unzipping corpora/wordnet.zip.\n"
          ]
        },
        {
          "output_type": "execute_result",
          "data": {
            "text/plain": [
              "True"
            ]
          },
          "metadata": {},
          "execution_count": 13
        }
      ]
    },
    {
      "cell_type": "code",
      "source": [
        "lem=[]\n",
        "for word in swr:\n",
        "  lem.append(wnet.lemmatize(word))"
      ],
      "metadata": {
        "id": "Y8vEPY8rNxn_"
      },
      "execution_count": 14,
      "outputs": []
    },
    {
      "cell_type": "code",
      "source": [
        "lem"
      ],
      "metadata": {
        "colab": {
          "base_uri": "https://localhost:8080/"
        },
        "id": "nskdgMNuOdxa",
        "outputId": "bfb41ba6-3abc-4ca3-a489-65d7483c8b59"
      },
      "execution_count": 15,
      "outputs": [
        {
          "output_type": "execute_result",
          "data": {
            "text/plain": [
              "['hi',\n",
              " 'good',\n",
              " 'morning',\n",
              " '',\n",
              " 'name',\n",
              " 'subrahmanyam',\n",
              " 'naidu',\n",
              " '',\n",
              " 'kakinadu',\n",
              " 'play',\n",
              " 'cricket',\n",
              " 'every',\n",
              " 'day',\n",
              " 'love',\n",
              " 'bating',\n",
              " 'verymuch',\n",
              " 'e-mail',\n",
              " 'naidusaladi924',\n",
              " 'gmail',\n",
              " 'com',\n",
              " 'passaword',\n",
              " '',\n",
              " 'naidusaladi942',\n",
              " '',\n",
              " '',\n",
              " 'working',\n",
              " 'member',\n",
              " 'lio',\n",
              " 'club',\n",
              " 'conduct',\n",
              " 'activity',\n",
              " 'like',\n",
              " 'dancing',\n",
              " 'swiming',\n",
              " '',\n",
              " '',\n",
              " '']"
            ]
          },
          "metadata": {},
          "execution_count": 15
        }
      ]
    },
    {
      "cell_type": "markdown",
      "source": [
        "#Stemming"
      ],
      "metadata": {
        "id": "KXsv3LAlO592"
      }
    },
    {
      "cell_type": "code",
      "source": [
        "from nltk.stem.porter import PorterStemmer\n",
        "stm=PorterStemmer()\n",
        "final=[stm.stem(word)for word in lem]\n",
        "final"
      ],
      "metadata": {
        "colab": {
          "base_uri": "https://localhost:8080/"
        },
        "id": "kyn2PHUQO-aK",
        "outputId": "95ba2ab3-8c6a-4e39-ce9f-be5a56eb451c"
      },
      "execution_count": 17,
      "outputs": [
        {
          "output_type": "execute_result",
          "data": {
            "text/plain": [
              "['hi',\n",
              " 'good',\n",
              " 'morn',\n",
              " '',\n",
              " 'name',\n",
              " 'subrahmanyam',\n",
              " 'naidu',\n",
              " '',\n",
              " 'kakinadu',\n",
              " 'play',\n",
              " 'cricket',\n",
              " 'everi',\n",
              " 'day',\n",
              " 'love',\n",
              " 'bate',\n",
              " 'verymuch',\n",
              " 'e-mail',\n",
              " 'naidusaladi924',\n",
              " 'gmail',\n",
              " 'com',\n",
              " 'passaword',\n",
              " '',\n",
              " 'naidusaladi942',\n",
              " '',\n",
              " '',\n",
              " 'work',\n",
              " 'member',\n",
              " 'lio',\n",
              " 'club',\n",
              " 'conduct',\n",
              " 'activ',\n",
              " 'like',\n",
              " 'danc',\n",
              " 'swime',\n",
              " '',\n",
              " '',\n",
              " '']"
            ]
          },
          "metadata": {},
          "execution_count": 17
        }
      ]
    },
    {
      "cell_type": "markdown",
      "source": [
        "#Lematization"
      ],
      "metadata": {
        "id": "DiTj3mygQSgf"
      }
    },
    {
      "cell_type": "code",
      "source": [
        "flem=[]\n",
        "for word in final:\n",
        "  flem.append(wnet.lemmatize(word))\n",
        "flem"
      ],
      "metadata": {
        "colab": {
          "base_uri": "https://localhost:8080/"
        },
        "id": "LbIv3qN0Qels",
        "outputId": "ba0ddce7-7613-46c1-9a60-b260d9e5faba"
      },
      "execution_count": 18,
      "outputs": [
        {
          "output_type": "execute_result",
          "data": {
            "text/plain": [
              "['hi',\n",
              " 'good',\n",
              " 'morn',\n",
              " '',\n",
              " 'name',\n",
              " 'subrahmanyam',\n",
              " 'naidu',\n",
              " '',\n",
              " 'kakinadu',\n",
              " 'play',\n",
              " 'cricket',\n",
              " 'everi',\n",
              " 'day',\n",
              " 'love',\n",
              " 'bate',\n",
              " 'verymuch',\n",
              " 'e-mail',\n",
              " 'naidusaladi924',\n",
              " 'gmail',\n",
              " 'com',\n",
              " 'passaword',\n",
              " '',\n",
              " 'naidusaladi942',\n",
              " '',\n",
              " '',\n",
              " 'work',\n",
              " 'member',\n",
              " 'lio',\n",
              " 'club',\n",
              " 'conduct',\n",
              " 'activ',\n",
              " 'like',\n",
              " 'danc',\n",
              " 'swime',\n",
              " '',\n",
              " '',\n",
              " '']"
            ]
          },
          "metadata": {},
          "execution_count": 18
        }
      ]
    }
  ]
}